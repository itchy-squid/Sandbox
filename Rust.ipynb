{
  "nbformat": 4,
  "nbformat_minor": 0,
  "metadata": {
    "colab": {
      "provenance": [],
      "authorship_tag": "ABX9TyOpX88jIQ7+TUVejBzr6Vxo",
      "include_colab_link": true
    },
    "kernelspec": {
      "name": "python3",
      "display_name": "Python 3"
    },
    "language_info": {
      "name": "python"
    }
  },
  "cells": [
    {
      "cell_type": "markdown",
      "metadata": {
        "id": "view-in-github",
        "colab_type": "text"
      },
      "source": [
        "<a href=\"https://colab.research.google.com/github/itchy-squid/Sandbox/blob/main/Rust.ipynb\" target=\"_parent\"><img src=\"https://colab.research.google.com/assets/colab-badge.svg\" alt=\"Open In Colab\"/></a>"
      ]
    },
    {
      "cell_type": "code",
      "execution_count": null,
      "metadata": {
        "id": "EwbQZV8eO6Al"
      },
      "outputs": [],
      "source": [
        "#@title Install Rust\n",
        "#run this once, then reload, and then skip this\n",
        "!apt install rustc\n",
        "!gdown --id 1PULtTc-2e9z4bswh_SQqL5oy_4JpfV7c\n",
        "!chmod +x evcxr_jupyter\n",
        "!./evcxr_jupyter --install"
      ]
    },
    {
      "cell_type": "code",
      "source": [],
      "metadata": {
        "id": "4Ek3ZZIEO_CN"
      },
      "execution_count": null,
      "outputs": []
    }
  ]
}